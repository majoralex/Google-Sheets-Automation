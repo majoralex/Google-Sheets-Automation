{
  "nbformat": 4,
  "nbformat_minor": 0,
  "metadata": {
    "colab": {
      "name": "test send email.ipynb",
      "provenance": [],
      "collapsed_sections": [],
      "authorship_tag": "ABX9TyPX3cDKMAL+EslocB7xRtes",
      "include_colab_link": true
    },
    "kernelspec": {
      "name": "python3",
      "display_name": "Python 3"
    }
  },
  "cells": [
    {
      "cell_type": "markdown",
      "metadata": {
        "id": "view-in-github",
        "colab_type": "text"
      },
      "source": [
        "<a href=\"https://colab.research.google.com/github/majoralex/Google-Sheets-Automation/blob/master/test_send_email.ipynb\" target=\"_parent\"><img src=\"https://colab.research.google.com/assets/colab-badge.svg\" alt=\"Open In Colab\"/></a>"
      ]
    },
    {
      "cell_type": "code",
      "metadata": {
        "id": "QJwioRcaDrUm",
        "colab_type": "code",
        "colab": {}
      },
      "source": [
        "!pip install fuzzy_pandas"
      ],
      "execution_count": null,
      "outputs": []
    },
    {
      "cell_type": "code",
      "metadata": {
        "id": "7JIlV-FZD4aR",
        "colab_type": "code",
        "colab": {}
      },
      "source": [
        "from google.colab import auth\n",
        "auth.authenticate_user()\n",
        "\n",
        "import gspread\n",
        "from oauth2client.client import GoogleCredentials\n",
        "import pandas as pd\n",
        "import fuzzy_pandas as fpd\n",
        "from google.colab import files\n",
        "import numpy as np\n"
      ],
      "execution_count": 35,
      "outputs": []
    },
    {
      "cell_type": "code",
      "metadata": {
        "id": "2o2XPCd9Botc",
        "colab_type": "code",
        "colab": {}
      },
      "source": [
        "gc = gspread.authorize(GoogleCredentials.get_application_default())\n",
        "\n",
        "ss = gc.open_by_key('1ajJkh8YDdKamhQkURiLUIwE86yk0z-PD6j3iq8Cfp5s')\n",
        "\n",
        "source_sheet = ss.worksheet(\"Source sheet\")\n",
        "legend_sheet = ss.worksheet(\"Publisher Grouping\")\n",
        "\n",
        "rows = source_sheet.get_all_values()\n",
        "pub_legend = legend_sheet.get_all_values()\n",
        "\n",
        "\n",
        "df1 = pd.DataFrame.from_records(rows[1:], columns=rows[0])\n",
        "df2 = pd.DataFrame.from_records(pub_legend[1:], columns=pub_legend[0])"
      ],
      "execution_count": 53,
      "outputs": []
    },
    {
      "cell_type": "code",
      "metadata": {
        "id": "1qWq6awXEoJT",
        "colab_type": "code",
        "colab": {
          "base_uri": "https://localhost:8080/",
          "height": 231
        },
        "outputId": "a5266a83-9b50-4c47-fd38-15a0cc7004ed"
      },
      "source": [
        "#https://stackoverflow.com/questions/45925327/dynamically-filtering-a-pandas-dataframe\n",
        "#Building a Dynamic Query ^^\n",
        "new_df = pd.merge(df1, df2, left_on='Product Name', right_on='Publisher Name')\n",
        "\n",
        "\n",
        "final_df = new_df.drop(columns=['Publisher Name'])\n",
        "\n",
        "#ID Here\n",
        "i = \"1\"\n",
        "\n",
        "\n",
        "unique_pub_ids = legend_sheet.range('B2:B100')\n",
        "\n",
        "this = list(unique_pub_ids)\n",
        "this.head()\n",
        "\n",
        "\n",
        "final_df2 = final_df[final_df['Group']==i].drop(columns=['Group'])\n",
        "\n",
        "#unique_pub_ids.head()\n",
        "\n",
        "\n",
        "#dfResults = fpd.fuzzy_merge(df, df2,\n",
        "#                           left_on=['Product Name'],\n",
        "#                            right_on=['Publisher Name'],\n",
        "#                            ignore_case=True,\n",
        "#                            keep='match')\n",
        "\n",
        "\n",
        "#dfResults.head()\n",
        "\n",
        "\n",
        "#Publisher Grouping\n",
        "\n",
        "\n",
        "#return filter(lambda list_a: list_a[0] in list_b, list_a)\n",
        "\n",
        "#final_df2.to_csv('publisher.csv')\n",
        "#files.download('publisher.csv')\n",
        "\n"
      ],
      "execution_count": 60,
      "outputs": [
        {
          "output_type": "error",
          "ename": "AttributeError",
          "evalue": "ignored",
          "traceback": [
            "\u001b[0;31m---------------------------------------------------------------------------\u001b[0m",
            "\u001b[0;31mAttributeError\u001b[0m                            Traceback (most recent call last)",
            "\u001b[0;32m<ipython-input-60-cfdbddd6cbea>\u001b[0m in \u001b[0;36m<module>\u001b[0;34m()\u001b[0m\n\u001b[1;32m     13\u001b[0m \u001b[0;34m\u001b[0m\u001b[0m\n\u001b[1;32m     14\u001b[0m \u001b[0mthis\u001b[0m \u001b[0;34m=\u001b[0m \u001b[0mlist\u001b[0m\u001b[0;34m(\u001b[0m\u001b[0munique_pub_ids\u001b[0m\u001b[0;34m)\u001b[0m\u001b[0;34m\u001b[0m\u001b[0;34m\u001b[0m\u001b[0m\n\u001b[0;32m---> 15\u001b[0;31m \u001b[0mthis\u001b[0m\u001b[0;34m.\u001b[0m\u001b[0mhead\u001b[0m\u001b[0;34m(\u001b[0m\u001b[0;34m)\u001b[0m\u001b[0;34m\u001b[0m\u001b[0;34m\u001b[0m\u001b[0m\n\u001b[0m\u001b[1;32m     16\u001b[0m \u001b[0mfinal_df2\u001b[0m \u001b[0;34m=\u001b[0m \u001b[0mfinal_df\u001b[0m\u001b[0;34m[\u001b[0m\u001b[0mfinal_df\u001b[0m\u001b[0;34m[\u001b[0m\u001b[0;34m'Group'\u001b[0m\u001b[0;34m]\u001b[0m\u001b[0;34m==\u001b[0m\u001b[0mi\u001b[0m\u001b[0;34m]\u001b[0m\u001b[0;34m.\u001b[0m\u001b[0mdrop\u001b[0m\u001b[0;34m(\u001b[0m\u001b[0mcolumns\u001b[0m\u001b[0;34m=\u001b[0m\u001b[0;34m[\u001b[0m\u001b[0;34m'Group'\u001b[0m\u001b[0;34m]\u001b[0m\u001b[0;34m)\u001b[0m\u001b[0;34m\u001b[0m\u001b[0;34m\u001b[0m\u001b[0m\n\u001b[1;32m     17\u001b[0m \u001b[0;34m\u001b[0m\u001b[0m\n",
            "\u001b[0;31mAttributeError\u001b[0m: 'list' object has no attribute 'head'"
          ]
        }
      ]
    },
    {
      "cell_type": "code",
      "metadata": {
        "id": "_Z450WuzFYlA",
        "colab_type": "code",
        "colab": {}
      },
      "source": [
        "import smtplib\n",
        "\n",
        "from string import Template\n",
        "\n",
        "from email.mime.multipart import MIMEMultipart\n",
        "from email.mime.text import MIMEText\n",
        "\n",
        "MY_ADDRESS = 'alex.anthony.major@gmail.com'\n",
        "PASSWORD = 'Dreamteam1!'\n",
        "\n",
        "def get_contacts(filename):\n",
        "    \"\"\"\n",
        "    Return two lists names, emails containing names and email addresses\n",
        "    read from a file specified by filename.\n",
        "    \"\"\"\n",
        "    \n",
        "    names = []\n",
        "    emails = []\n",
        "    with open(filename, mode='r', encoding='utf-8') as contacts_file:\n",
        "        for a_contact in contacts_file:\n",
        "            names.append(a_contact.split()[0])\n",
        "            emails.append(a_contact.split()[1])\n",
        "    return names, emails\n",
        "\n",
        "def read_template(filename):\n",
        "    \"\"\"\n",
        "    Returns a Template object comprising the contents of the \n",
        "    file specified by filename.\n",
        "    \"\"\"\n",
        "    \n",
        "    with open(filename, 'r', encoding='utf-8') as template_file:\n",
        "        template_file_content = template_file.read()\n",
        "    return Template(template_file_content)\n",
        "\n",
        "def main():\n",
        "    names, emails = get_contacts('mycontacts.txt') # read contacts\n",
        "    message_template = read_template('message.txt')\n",
        "\n",
        "    # set up the SMTP server\n",
        "    s = smtplib.SMTP(host='smtp.gmail.com', port=587)\n",
        "    s.starttls()\n",
        "    s.login(MY_ADDRESS, PASSWORD)\n",
        "\n",
        "    # For each contact, send the email:\n",
        "    for name, email in zip(names, emails):\n",
        "        msg = MIMEMultipart()       # create a message\n",
        "\n",
        "        # add in the actual person name to the message template\n",
        "        message = message_template.substitute(PERSON_NAME=name.title())\n",
        "\n",
        "        # Prints out the message body for our sake\n",
        "        print(message)\n",
        "\n",
        "        # setup the parameters of the message\n",
        "        msg['From']=MY_ADDRESS\n",
        "        msg['To']=email\n",
        "        msg['Subject']=\"This is TEST\"\n",
        "        \n",
        "        # add in the message body\n",
        "        msg.attach(MIMEText(message, 'plain'))\n",
        "        \n",
        "        # send the message via the server set up earlier.\n",
        "        s.send_message(msg)\n",
        "        del msg\n",
        "        \n",
        "    # Terminate the SMTP session and close the connection\n",
        "    s.quit()\n",
        "    \n",
        "if __name__ == '__main__':\n",
        "    main()"
      ],
      "execution_count": null,
      "outputs": []
    },
    {
      "cell_type": "code",
      "metadata": {
        "id": "2Y_lZdvoVNzJ",
        "colab_type": "code",
        "colab": {
          "base_uri": "https://localhost:8080/",
          "height": 85
        },
        "outputId": "140762e6-c613-4ee3-9277-6194f8318b87"
      },
      "source": [
        ""
      ],
      "execution_count": null,
      "outputs": [
        {
          "output_type": "stream",
          "text": [
            "Collecting email\n",
            "\u001b[?25l  Downloading https://files.pythonhosted.org/packages/71/e7/816030d3b0426c130040bd068be62b9213357ed02896f5d9badcf46d1b5f/email-4.0.2.tar.gz (1.2MB)\n",
            "\u001b[K     |████████████████████████████████| 1.2MB 4.4MB/s \n",
            "\u001b[31mERROR: Command errored out with exit status 1: python setup.py egg_info Check the logs for full command output.\u001b[0m\n",
            "\u001b[?25h"
          ],
          "name": "stdout"
        }
      ]
    },
    {
      "cell_type": "code",
      "metadata": {
        "id": "QVaGDtl-VQdR",
        "colab_type": "code",
        "colab": {}
      },
      "source": [
        "import smtplib\n",
        "\n",
        "try:\n",
        "    server = smtplib.SMTP('smtp.gmail.com', 587)\n",
        "    server.ehlo()\n",
        "except:\n",
        "    print('Something went wrong...')"
      ],
      "execution_count": null,
      "outputs": []
    },
    {
      "cell_type": "code",
      "metadata": {
        "id": "XVNTp9R3Z0fy",
        "colab_type": "code",
        "colab": {}
      },
      "source": [
        ""
      ],
      "execution_count": null,
      "outputs": []
    }
  ]
}